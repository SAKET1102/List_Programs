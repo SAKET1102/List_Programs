{
 "cells": [
  {
   "cell_type": "markdown",
   "metadata": {},
   "source": [
    "# Different ways to clear a list in Python"
   ]
  },
  {
   "cell_type": "code",
   "execution_count": 1,
   "metadata": {},
   "outputs": [
    {
     "name": "stdout",
     "output_type": "stream",
     "text": [
      "GEEK after clear: []\n"
     ]
    }
   ],
   "source": [
    "GEEK = [6, 0, 4, 1]\n",
    "GEEK.clear() \n",
    "print('GEEK after clear:', GEEK) "
   ]
  },
  {
   "cell_type": "code",
   "execution_count": 2,
   "metadata": {},
   "outputs": [
    {
     "name": "stdout",
     "output_type": "stream",
     "text": [
      "List1 before deleting is : [1, 2, 3]\n",
      "List1 after clearing using *= 0: []\n"
     ]
    }
   ],
   "source": [
    "list1 = [1, 2, 3]\n",
    "  \n",
    "# Printing list1 before deleting \n",
    "print (\"List1 before deleting is : \" + str(list1))\n",
    "  \n",
    "# deleting list using *= 0\n",
    "list1 *= 0\n",
    "  \n",
    "# Printing list1 after *= 0\n",
    "print (\"List1 after clearing using *= 0: \" + str(list1))"
   ]
  },
  {
   "cell_type": "code",
   "execution_count": 4,
   "metadata": {},
   "outputs": [
    {
     "name": "stdout",
     "output_type": "stream",
     "text": [
      "List1 before deleting is : [1, 2, 3]\n",
      "List1 after clearing using del : []\n"
     ]
    }
   ],
   "source": [
    "list1 = [1, 2, 3]\n",
    "  \n",
    "print (\"List1 before deleting is : \" + str(list1))\n",
    "\n",
    "del list1[:]\n",
    "print (\"List1 after clearing using del : \" + str(list1))"
   ]
  },
  {
   "cell_type": "code",
   "execution_count": null,
   "metadata": {},
   "outputs": [],
   "source": []
  }
 ],
 "metadata": {
  "kernelspec": {
   "display_name": "Python 3",
   "language": "python",
   "name": "python3"
  },
  "language_info": {
   "codemirror_mode": {
    "name": "ipython",
    "version": 3
   },
   "file_extension": ".py",
   "mimetype": "text/x-python",
   "name": "python",
   "nbconvert_exporter": "python",
   "pygments_lexer": "ipython3",
   "version": "3.8.3"
  }
 },
 "nbformat": 4,
 "nbformat_minor": 4
}
