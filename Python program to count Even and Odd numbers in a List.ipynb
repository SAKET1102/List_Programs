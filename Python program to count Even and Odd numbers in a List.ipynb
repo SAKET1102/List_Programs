{
 "cells": [
  {
   "cell_type": "markdown",
   "metadata": {},
   "source": [
    "# Python program to count Even and Odd numbers in a List"
   ]
  },
  {
   "cell_type": "code",
   "execution_count": 8,
   "metadata": {},
   "outputs": [
    {
     "name": "stdout",
     "output_type": "stream",
     "text": [
      "count_odd : 5\n",
      "count_even : 3\n"
     ]
    }
   ],
   "source": [
    "lst = [2,5,7,9,8,1,4,11]\n",
    "count_even = 0\n",
    "count_odd = 0\n",
    "for i in lst:\n",
    "    if (i % 2 == 0):\n",
    "        count_even = count_even + 1\n",
    "    elif (i % 2 != 0 ):\n",
    "        count_odd = count_odd + 1\n",
    "\n",
    "print(\"count_odd :\",count_odd)\n",
    "print(\"count_even :\",count_even)"
   ]
  },
  {
   "cell_type": "code",
   "execution_count": 22,
   "metadata": {},
   "outputs": [
    {
     "name": "stdout",
     "output_type": "stream",
     "text": [
      "count_odd : 4\n",
      "count_even : 3\n"
     ]
    }
   ],
   "source": [
    "# Using iist comprehesion\n",
    "list1 = [10, 21, 4, 45, 66, 93, 11]\n",
    "ele = len([i for i in list1 if (i % 2 != 0)])\n",
    "ele1 = len([i for i in list1 if (i % 2 == 0)])\n",
    "print(\"count_odd :\",ele)\n",
    "print(\"count_even :\",ele1)"
   ]
  },
  {
   "cell_type": "code",
   "execution_count": 24,
   "metadata": {},
   "outputs": [
    {
     "name": "stdout",
     "output_type": "stream",
     "text": [
      "count_odd : 3\n",
      "count_even : 4\n"
     ]
    }
   ],
   "source": [
    "#Using Lambda function and FIlter function\n",
    "list1 = [10, 21, 4, 45, 66, 93, 11]\n",
    "ele = len(list(filter(lambda x : x % 2 == 0,list1)))\n",
    "ele1 = len(list(filter(lambda x : x % 2 != 0,list1)))\n",
    "print(\"count_odd :\",ele)\n",
    "print(\"count_even :\",ele1)"
   ]
  },
  {
   "cell_type": "code",
   "execution_count": null,
   "metadata": {},
   "outputs": [],
   "source": []
  },
  {
   "cell_type": "code",
   "execution_count": null,
   "metadata": {},
   "outputs": [],
   "source": []
  }
 ],
 "metadata": {
  "kernelspec": {
   "display_name": "Python 3",
   "language": "python",
   "name": "python3"
  },
  "language_info": {
   "codemirror_mode": {
    "name": "ipython",
    "version": 3
   },
   "file_extension": ".py",
   "mimetype": "text/x-python",
   "name": "python",
   "nbconvert_exporter": "python",
   "pygments_lexer": "ipython3",
   "version": "3.8.3"
  }
 },
 "nbformat": 4,
 "nbformat_minor": 4
}
