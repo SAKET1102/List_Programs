{
 "cells": [
  {
   "cell_type": "code",
   "execution_count": 1,
   "metadata": {},
   "outputs": [],
   "source": [
    "#Using count Function\n",
    "genders = ['Male', 'Female', 'Female', 'Female', 'Male', 'Male', 'Female', 'Female']  #This is also saying \"name 'Female' is not defined\"\n",
    "\n",
    "def gender(genders):  \n",
    "        count_female = genders.count('Female')  \n",
    "        return count_female  # --> returns 4   "
   ]
  },
  {
   "cell_type": "code",
   "execution_count": 2,
   "metadata": {},
   "outputs": [
    {
     "data": {
      "text/plain": [
       "5"
      ]
     },
     "execution_count": 2,
     "metadata": {},
     "output_type": "execute_result"
    }
   ],
   "source": [
    "gender(genders)"
   ]
  },
  {
   "cell_type": "code",
   "execution_count": 3,
   "metadata": {},
   "outputs": [],
   "source": [
    "# Using for Loop\n",
    "def gender(genders):\n",
    "    count_female = 0\n",
    "    for i in genders:\n",
    "        if (i == 'Female'):\n",
    "            count_female += 1\n",
    "    print(\"No. of females word in the given list:\",count_female)"
   ]
  },
  {
   "cell_type": "code",
   "execution_count": 4,
   "metadata": {},
   "outputs": [
    {
     "name": "stdout",
     "output_type": "stream",
     "text": [
      "No. of females word in the given list: 5\n"
     ]
    }
   ],
   "source": [
    "gender(genders)"
   ]
  },
  {
   "cell_type": "code",
   "execution_count": 5,
   "metadata": {},
   "outputs": [
    {
     "name": "stdout",
     "output_type": "stream",
     "text": [
      "No. of females word in the given list: 5\n"
     ]
    }
   ],
   "source": [
    "# Using List comprehension\n",
    "count_female = len([i for i in genders if (i == 'Female')])\n",
    "print(\"No. of females word in the given list:\",count_female)"
   ]
  },
  {
   "cell_type": "code",
   "execution_count": 6,
   "metadata": {},
   "outputs": [
    {
     "name": "stdout",
     "output_type": "stream",
     "text": [
      "No. of females word in the given list: 5\n"
     ]
    }
   ],
   "source": [
    "#Using filter and lambda functions\n",
    "genders = ['Male', 'Female', 'Female', 'Female', 'Male', 'Male', 'Female', 'Female'] \n",
    "count_female = list(filter(lambda x : x == 'Female',genders))\n",
    "print(\"No. of females word in the given list:\",len(count_female))"
   ]
  }
 ],
 "metadata": {
  "kernelspec": {
   "display_name": "Python 3",
   "language": "python",
   "name": "python3"
  },
  "language_info": {
   "codemirror_mode": {
    "name": "ipython",
    "version": 3
   },
   "file_extension": ".py",
   "mimetype": "text/x-python",
   "name": "python",
   "nbconvert_exporter": "python",
   "pygments_lexer": "ipython3",
   "version": "3.8.3"
  }
 },
 "nbformat": 4,
 "nbformat_minor": 4
}
