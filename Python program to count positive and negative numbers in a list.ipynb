{
 "cells": [
  {
   "cell_type": "markdown",
   "metadata": {},
   "source": [
    "# Python program to count positive and negative numbers in a list"
   ]
  },
  {
   "cell_type": "code",
   "execution_count": 1,
   "metadata": {},
   "outputs": [
    {
     "name": "stdout",
     "output_type": "stream",
     "text": [
      "Positive numbers in the list:  4\n",
      "Negative numbers in the list:  3\n"
     ]
    }
   ],
   "source": [
    "list1 = [10, -21, 4, -45, 66, -93, 1]\n",
    "  \n",
    "pos_count, neg_count = 0, 0\n",
    "  \n",
    "# iterating each number in list\n",
    "for num in list1:\n",
    "      \n",
    "    # checking condition\n",
    "    if num >= 0:\n",
    "        pos_count += 1\n",
    "  \n",
    "    else:\n",
    "        neg_count += 1\n",
    "          \n",
    "print(\"Positive numbers in the list: \", pos_count)\n",
    "print(\"Negative numbers in the list: \", neg_count)"
   ]
  },
  {
   "cell_type": "code",
   "execution_count": 2,
   "metadata": {},
   "outputs": [
    {
     "name": "stdout",
     "output_type": "stream",
     "text": [
      "Positive numbers in the list:  4\n",
      "Negative numbers in the list:  3\n"
     ]
    }
   ],
   "source": [
    "# Python program to count positive\n",
    "# and negative numbers in a List\n",
    "  \n",
    "# list of numbers\n",
    "list1 = [10, -21, -4, 45, 66, 93, -11]\n",
    "  \n",
    "neg_count = len(list(filter(lambda x: (x < 0), list1)))\n",
    "  \n",
    "# we can also do len(list1) - neg_count\n",
    "pos_count = len(list(filter(lambda x: (x >= 0), list1)))\n",
    "  \n",
    "print(\"Positive numbers in the list: \", pos_count)\n",
    "print(\"Negative numbers in the list: \", neg_count)"
   ]
  },
  {
   "cell_type": "code",
   "execution_count": 3,
   "metadata": {},
   "outputs": [
    {
     "name": "stdout",
     "output_type": "stream",
     "text": [
      "Positive numbers in the list:  1\n",
      "Negative numbers in the list:  6\n"
     ]
    }
   ],
   "source": [
    "# Python program to count positive\n",
    "# and negative numbers in a List\n",
    "  \n",
    "# list of numbers\n",
    "list1 = [-10, -21, -4, -45, -66, -93, 11]\n",
    "  \n",
    "only_pos = [num for num in list1 if num >= 1]\n",
    "pos_count = len(only_pos)\n",
    "  \n",
    "print(\"Positive numbers in the list: \", pos_count)\n",
    "print(\"Negative numbers in the list: \", len(list1) - pos_count)"
   ]
  },
  {
   "cell_type": "code",
   "execution_count": null,
   "metadata": {},
   "outputs": [],
   "source": []
  }
 ],
 "metadata": {
  "kernelspec": {
   "display_name": "Python 3",
   "language": "python",
   "name": "python3"
  },
  "language_info": {
   "codemirror_mode": {
    "name": "ipython",
    "version": 3
   },
   "file_extension": ".py",
   "mimetype": "text/x-python",
   "name": "python",
   "nbconvert_exporter": "python",
   "pygments_lexer": "ipython3",
   "version": "3.8.3"
  }
 },
 "nbformat": 4,
 "nbformat_minor": 4
}
