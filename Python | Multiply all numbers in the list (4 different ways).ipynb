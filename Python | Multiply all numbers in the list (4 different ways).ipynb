{
 "cells": [
  {
   "cell_type": "markdown",
   "metadata": {},
   "source": [
    "# Python | Multiply all numbers in the list (4 different ways)"
   ]
  },
  {
   "cell_type": "code",
   "execution_count": 10,
   "metadata": {},
   "outputs": [
    {
     "name": "stdout",
     "output_type": "stream",
     "text": [
      "Multiply the list of all the numbers: 1120\n"
     ]
    }
   ],
   "source": [
    "list1 = [4,5,7,8]\n",
    "mul = 1\n",
    "for i in list1:\n",
    "    mul = mul * i\n",
    "    \n",
    "print(\"Multiply the list of all the numbers:\",mul)"
   ]
  },
  {
   "cell_type": "code",
   "execution_count": 11,
   "metadata": {},
   "outputs": [
    {
     "name": "stdout",
     "output_type": "stream",
     "text": [
      "Multiply the list of all the numbers using numpy prod function: 1120\n"
     ]
    }
   ],
   "source": [
    "#Using numpy.prod()\n",
    "import numpy\n",
    "list1 = [4,5,7,8]\n",
    "print(\"Multiply the list of all the numbers using numpy prod function:\",numpy.prod(list1))"
   ]
  },
  {
   "cell_type": "code",
   "execution_count": 12,
   "metadata": {},
   "outputs": [
    {
     "name": "stdout",
     "output_type": "stream",
     "text": [
      "Multiply the list of all the numbers using reduce lamda function: 1440\n"
     ]
    }
   ],
   "source": [
    "#Using lambda function: Using numpy.array\n",
    "from functools import reduce\n",
    "\n",
    "list1 = [4,5,8,9]\n",
    "lst = reduce((lambda x,y:x*y),list1)\n",
    "print(\"Multiply the list of all the numbers using reduce lamda function:\",lst)"
   ]
  },
  {
   "cell_type": "code",
   "execution_count": null,
   "metadata": {},
   "outputs": [],
   "source": []
  }
 ],
 "metadata": {
  "kernelspec": {
   "display_name": "Python 3",
   "language": "python",
   "name": "python3"
  },
  "language_info": {
   "codemirror_mode": {
    "name": "ipython",
    "version": 3
   },
   "file_extension": ".py",
   "mimetype": "text/x-python",
   "name": "python",
   "nbconvert_exporter": "python",
   "pygments_lexer": "ipython3",
   "version": "3.8.3"
  }
 },
 "nbformat": 4,
 "nbformat_minor": 4
}
