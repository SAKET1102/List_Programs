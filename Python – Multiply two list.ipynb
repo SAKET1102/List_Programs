{
 "cells": [
  {
   "cell_type": "code",
   "execution_count": 11,
   "metadata": {},
   "outputs": [
    {
     "name": "stdout",
     "output_type": "stream",
     "text": [
      "Result list after multiplying both the list: [4, 15, 24, 12, 80]\n"
     ]
    }
   ],
   "source": [
    "#Python – Multiply two list\n",
    "test_list1 = [1, 3, 4, 6, 8]\n",
    "test_list2 = [4, 5, 6, 2, 10]\n",
    "\n",
    "n = len(test_list2)\n",
    "res_list = []\n",
    "for i in range(n):\n",
    "    res_list.append(test_list1[i] * test_list2[i])\n",
    "print(\"Result list after multiplying both the list:\",res_list)"
   ]
  },
  {
   "cell_type": "code",
   "execution_count": 12,
   "metadata": {},
   "outputs": [
    {
     "name": "stdout",
     "output_type": "stream",
     "text": [
      "Result list after multiplying both the list: [4, 15, 24, 12, 80]\n"
     ]
    }
   ],
   "source": [
    "# Using List Comprehension\n",
    "test_list1 = [1, 3, 4, 6, 8]\n",
    "test_list2 = [4, 5, 6, 2, 10]\n",
    "\n",
    "res_list = [test_list1[i] * test_list2[i] for i in range(len(test_list2))]\n",
    "print(\"Result list after multiplying both the list:\",res_list)"
   ]
  },
  {
   "cell_type": "code",
   "execution_count": null,
   "metadata": {},
   "outputs": [],
   "source": []
  }
 ],
 "metadata": {
  "kernelspec": {
   "display_name": "Python 3",
   "language": "python",
   "name": "python3"
  },
  "language_info": {
   "codemirror_mode": {
    "name": "ipython",
    "version": 3
   },
   "file_extension": ".py",
   "mimetype": "text/x-python",
   "name": "python",
   "nbconvert_exporter": "python",
   "pygments_lexer": "ipython3",
   "version": "3.8.3"
  }
 },
 "nbformat": 4,
 "nbformat_minor": 4
}
