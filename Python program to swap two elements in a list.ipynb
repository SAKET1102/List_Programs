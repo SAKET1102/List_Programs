{
 "cells": [
  {
   "cell_type": "markdown",
   "metadata": {},
   "source": [
    "# Python program to swap two elements in a list\n"
   ]
  },
  {
   "cell_type": "markdown",
   "metadata": {},
   "source": [
    "Given a list in Python and provided the positions of the elements, write a program to swap the two elements in the list.<br>\n",
    "<br>\n",
    "Examples: <br>\n",
    "<br>\n",
    "Input : List = [23, 65, 19, 90], pos1 = 1, pos2 = 3 <br>\n",
    "Output : [19, 65, 23, 90]<br>\n",
    "<br>\n",
    "Input : List = [1, 2, 3, 4, 5], pos1 = 2, pos2 = 5 <br>\n",
    "Output : [1, 5, 3, 4, 2] <br>"
   ]
  },
  {
   "cell_type": "code",
   "execution_count": 14,
   "metadata": {},
   "outputs": [],
   "source": [
    "def swaptwo(lst,pos1,pos2):\n",
    "    lst[pos1],lst[pos2] = lst[pos2],lst[pos1]\n",
    "    return lst"
   ]
  },
  {
   "cell_type": "code",
   "execution_count": 16,
   "metadata": {},
   "outputs": [
    {
     "data": {
      "text/plain": [
       "[19, 65, 23, 90]"
      ]
     },
     "execution_count": 16,
     "metadata": {},
     "output_type": "execute_result"
    }
   ],
   "source": [
    "lst = [23, 65, 19, 90]\n",
    "pos1 = 1\n",
    "pos2 = 3 \n",
    "swaptwo(lst,pos1-1,pos2-1)"
   ]
  },
  {
   "cell_type": "code",
   "execution_count": 38,
   "metadata": {},
   "outputs": [],
   "source": [
    "# Using built in list.pop() functions\n",
    "def swappop(lst,pos1,pos2):\n",
    "    ele1 = lst.pop(pos1)\n",
    "    ele2 = lst.pop(pos2-1)\n",
    "    lst.insert(pos1, ele2)  \n",
    "    lst.insert(pos2, ele1)  \n",
    "    print(lst)"
   ]
  },
  {
   "cell_type": "code",
   "execution_count": 39,
   "metadata": {},
   "outputs": [
    {
     "name": "stdout",
     "output_type": "stream",
     "text": [
      "[19, 65, 23, 90]\n"
     ]
    }
   ],
   "source": [
    "lst = [23, 65, 19, 90]\n",
    "pos1 = 1\n",
    "pos2 = 3 \n",
    "swappop(lst,pos1-1,pos2-1)"
   ]
  },
  {
   "cell_type": "code",
   "execution_count": null,
   "metadata": {},
   "outputs": [],
   "source": []
  }
 ],
 "metadata": {
  "kernelspec": {
   "display_name": "Python 3",
   "language": "python",
   "name": "python3"
  },
  "language_info": {
   "codemirror_mode": {
    "name": "ipython",
    "version": 3
   },
   "file_extension": ".py",
   "mimetype": "text/x-python",
   "name": "python",
   "nbconvert_exporter": "python",
   "pygments_lexer": "ipython3",
   "version": "3.8.3"
  }
 },
 "nbformat": 4,
 "nbformat_minor": 4
}
