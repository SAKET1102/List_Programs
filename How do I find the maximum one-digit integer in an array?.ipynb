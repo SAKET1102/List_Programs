{
 "cells": [
  {
   "cell_type": "markdown",
   "metadata": {},
   "source": [
    "# How do I find the maximum one-digit integer in an array?"
   ]
  },
  {
   "cell_type": "code",
   "execution_count": 1,
   "metadata": {},
   "outputs": [],
   "source": [
    "B_POS = []\n",
    "C_NEG = []\n",
    "C_NEG_Up = []\n",
    "B_POS_Up = []\n",
    "def solution(A):\n",
    "    A.sort()\n",
    "    print(A)\n",
    "    for j in A:\n",
    "        if j < 0:\n",
    "            C_NEG.append(j)\n",
    "            if (len(str(j)) == 2):\n",
    "                C_NEG_Up.append(j)\n",
    "        else:\n",
    "            B_POS.append(j)\n",
    "            if (len(str(j)) == 1):\n",
    "                B_POS_Up.append(j)\n",
    "    both = B_POS_Up + B_POS_Up\n",
    "    print(max(both,default = None))"
   ]
  },
  {
   "cell_type": "code",
   "execution_count": 2,
   "metadata": {},
   "outputs": [
    {
     "name": "stdout",
     "output_type": "stream",
     "text": [
      "[-100, -91, -22, 0, 184, 473, 1011]\n",
      "0\n"
     ]
    }
   ],
   "source": [
    "A = [ -91, 1011, -100,184,0,-22, 473]\n",
    "solution(A)"
   ]
  },
  {
   "cell_type": "code",
   "execution_count": null,
   "metadata": {},
   "outputs": [],
   "source": []
  }
 ],
 "metadata": {
  "kernelspec": {
   "display_name": "Python 3",
   "language": "python",
   "name": "python3"
  },
  "language_info": {
   "codemirror_mode": {
    "name": "ipython",
    "version": 3
   },
   "file_extension": ".py",
   "mimetype": "text/x-python",
   "name": "python",
   "nbconvert_exporter": "python",
   "pygments_lexer": "ipython3",
   "version": "3.8.3"
  }
 },
 "nbformat": 4,
 "nbformat_minor": 4
}
