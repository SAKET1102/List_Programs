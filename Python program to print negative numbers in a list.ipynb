{
 "cells": [
  {
   "cell_type": "markdown",
   "metadata": {},
   "source": [
    "# Python program to print negative numbers in a list"
   ]
  },
  {
   "cell_type": "code",
   "execution_count": 2,
   "metadata": {},
   "outputs": [
    {
     "name": "stdout",
     "output_type": "stream",
     "text": [
      "Negative numbers in a list: [-77, -5, -8]\n"
     ]
    }
   ],
   "source": [
    "#Using for Loop\n",
    "list1 = [2, 7, 5,-77, 64, 14,98,-5,-8]\n",
    "list2 = []\n",
    "for i in list1:\n",
    "    if (i <= 0):\n",
    "        list2.append(i)\n",
    "print(\"Negative numbers in a list:\",list2)"
   ]
  },
  {
   "cell_type": "code",
   "execution_count": 3,
   "metadata": {},
   "outputs": [
    {
     "name": "stdout",
     "output_type": "stream",
     "text": [
      "Negative numbers in a list: [-77, -5, -8]\n"
     ]
    }
   ],
   "source": [
    "# using List Comprehension\n",
    "list1 = [2, 7, 5,-77, 64, 14,98,-5,-8]\n",
    "list2 = [i for i in list1 if i <= 0 ]\n",
    "print(\"Negative numbers in a list:\",list2)"
   ]
  },
  {
   "cell_type": "code",
   "execution_count": 4,
   "metadata": {},
   "outputs": [
    {
     "name": "stdout",
     "output_type": "stream",
     "text": [
      "Negative numbers in a list: [-77, -5, -8]\n"
     ]
    }
   ],
   "source": [
    "#Using Lambda and filter\n",
    "list1 = [2, 7, 5,-77, 64, 14,98,-5,-8]\n",
    "list2 = list(filter(lambda x : (x <= 0),list1))\n",
    "print(\"Negative numbers in a list:\",list2)"
   ]
  },
  {
   "cell_type": "code",
   "execution_count": null,
   "metadata": {},
   "outputs": [],
   "source": []
  }
 ],
 "metadata": {
  "kernelspec": {
   "display_name": "Python 3",
   "language": "python",
   "name": "python3"
  },
  "language_info": {
   "codemirror_mode": {
    "name": "ipython",
    "version": 3
   },
   "file_extension": ".py",
   "mimetype": "text/x-python",
   "name": "python",
   "nbconvert_exporter": "python",
   "pygments_lexer": "ipython3",
   "version": "3.8.3"
  }
 },
 "nbformat": 4,
 "nbformat_minor": 4
}
